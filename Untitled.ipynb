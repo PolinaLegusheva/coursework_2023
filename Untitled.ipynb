{
 "cells": [
  {
   "cell_type": "code",
   "execution_count": 1,
   "id": "03bd768e-2ade-465e-9efb-287508aacf39",
   "metadata": {},
   "outputs": [],
   "source": [
    "import tensorflow as tf\n",
    "import numpy as np\n",
    "import pandas as pd\n",
    "from tensorflow import keras\n",
    "from tensorflow.keras import layers\n",
    "from keras.preprocessing.image import ImageDataGenerator\n",
    "from keras import applications\n",
    "from tensorflow.keras.applications import EfficientNetB0\n",
    "from keras import callbacks\n",
    "from keras.models import Sequential\n",
    "from keras.layers import Dense\n",
    "from keras.optimizers import Adam\n",
    "from tensorflow import keras\n",
    "import cv2"
   ]
  },
  {
   "cell_type": "code",
   "execution_count": 2,
   "id": "3d7d144f-af40-4a78-a999-75ecda3e9b40",
   "metadata": {},
   "outputs": [
    {
     "name": "stderr",
     "output_type": "stream",
     "text": [
      "2023-05-08 19:04:00.611233: E tensorflow/stream_executor/cuda/cuda_driver.cc:271] failed call to cuInit: CUDA_ERROR_UNKNOWN: unknown error\n",
      "2023-05-08 19:04:00.611277: I tensorflow/stream_executor/cuda/cuda_diagnostics.cc:169] retrieving CUDA diagnostic information for host: pl\n",
      "2023-05-08 19:04:00.611288: I tensorflow/stream_executor/cuda/cuda_diagnostics.cc:176] hostname: pl\n",
      "2023-05-08 19:04:00.611376: I tensorflow/stream_executor/cuda/cuda_diagnostics.cc:200] libcuda reported version is: 530.41.3\n",
      "2023-05-08 19:04:00.611409: I tensorflow/stream_executor/cuda/cuda_diagnostics.cc:204] kernel reported version is: 530.41.3\n",
      "2023-05-08 19:04:00.611418: I tensorflow/stream_executor/cuda/cuda_diagnostics.cc:310] kernel version seems to match DSO: 530.41.3\n",
      "2023-05-08 19:04:00.612110: I tensorflow/core/platform/cpu_feature_guard.cc:193] This TensorFlow binary is optimized with oneAPI Deep Neural Network Library (oneDNN) to use the following CPU instructions in performance-critical operations:  AVX2 FMA\n",
      "To enable them in other operations, rebuild TensorFlow with the appropriate compiler flags.\n"
     ]
    }
   ],
   "source": [
    "model = keras.models.load_model('/home/pl/Documents/course_work_2/model_full_train/')"
   ]
  },
  {
   "cell_type": "code",
   "execution_count": 3,
   "id": "e9ad66a4-a54b-4098-ae3e-c835a6f650b5",
   "metadata": {},
   "outputs": [],
   "source": [
    "img = cv2.imread('/home/pl/Documents/course_work_2/chest_xray/test/PNEUMONIA/0130.jpeg')\n",
    "img = np.expand_dims(cv2.resize(img, (256, 256)), 0)"
   ]
  },
  {
   "cell_type": "code",
   "execution_count": 4,
   "id": "171a1e7f-7f91-4bd2-aa52-2fda33bb6b51",
   "metadata": {},
   "outputs": [
    {
     "name": "stdout",
     "output_type": "stream",
     "text": [
      "1/1 [==============================] - 1s 1s/step\n"
     ]
    }
   ],
   "source": [
    "preds = model.predict(\n",
    "    img,\n",
    ")"
   ]
  },
  {
   "cell_type": "code",
   "execution_count": 5,
   "id": "9a5458e2-892c-4865-8680-cf3d7540770a",
   "metadata": {},
   "outputs": [
    {
     "data": {
      "text/plain": [
       "array([[1.]], dtype=float32)"
      ]
     },
     "execution_count": 5,
     "metadata": {},
     "output_type": "execute_result"
    }
   ],
   "source": [
    "preds"
   ]
  },
  {
   "cell_type": "code",
   "execution_count": 6,
   "id": "5588c411-c070-435f-b176-f820b367f4bb",
   "metadata": {},
   "outputs": [],
   "source": [
    "preds_classes = [int(pred) for pred in preds]"
   ]
  },
  {
   "cell_type": "code",
   "execution_count": 7,
   "id": "aff35fb8-13d9-4cc2-b136-0db2b9e8fbcb",
   "metadata": {},
   "outputs": [
    {
     "data": {
      "text/plain": [
       "[1]"
      ]
     },
     "execution_count": 7,
     "metadata": {},
     "output_type": "execute_result"
    }
   ],
   "source": [
    "preds_classes"
   ]
  },
  {
   "cell_type": "code",
   "execution_count": null,
   "id": "cc0fff64-36fa-490f-8414-0477f0731044",
   "metadata": {},
   "outputs": [],
   "source": []
  }
 ],
 "metadata": {
  "kernelspec": {
   "display_name": "Python 3 (ipykernel)",
   "language": "python",
   "name": "python3"
  },
  "language_info": {
   "codemirror_mode": {
    "name": "ipython",
    "version": 3
   },
   "file_extension": ".py",
   "mimetype": "text/x-python",
   "name": "python",
   "nbconvert_exporter": "python",
   "pygments_lexer": "ipython3",
   "version": "3.8.10"
  }
 },
 "nbformat": 4,
 "nbformat_minor": 5
}
