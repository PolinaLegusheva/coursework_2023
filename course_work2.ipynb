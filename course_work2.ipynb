{
 "cells": [
  {
   "cell_type": "code",
   "execution_count": 1,
   "id": "edeb0b88-ba17-404b-9cfd-2d4a6981221b",
   "metadata": {},
   "outputs": [
    {
     "name": "stderr",
     "output_type": "stream",
     "text": [
      "2023-04-27 14:30:47.310143: W tensorflow/stream_executor/platform/default/dso_loader.cc:64] Could not load dynamic library 'libcudart.so.11.0'; dlerror: libcudart.so.11.0: cannot open shared object file: No such file or directory\n",
      "2023-04-27 14:30:47.310159: I tensorflow/stream_executor/cuda/cudart_stub.cc:29] Ignore above cudart dlerror if you do not have a GPU set up on your machine.\n"
     ]
    }
   ],
   "source": [
    "import tensorflow as tf\n",
    "import numpy as np\n",
    "import pandas as pd\n",
    "from tensorflow import keras\n",
    "from tensorflow.keras import layers\n",
    "from keras.preprocessing.image import ImageDataGenerator\n",
    "from keras import applications\n",
    "from tensorflow.keras.applications import EfficientNetB0\n",
    "from keras import callbacks\n",
    "from keras.models import Sequential\n",
    "from keras.layers import Dense\n",
    "from keras.optimizers import Adam\n"
   ]
  },
  {
   "cell_type": "code",
   "execution_count": 2,
   "id": "5ea6d6fe-9c39-43a8-9262-c2ed550c3df3",
   "metadata": {},
   "outputs": [],
   "source": [
    "datagen = ImageDataGenerator()"
   ]
  },
  {
   "cell_type": "code",
   "execution_count": 3,
   "id": "29f4e228-6aee-4ce1-b1d2-db01767b052e",
   "metadata": {},
   "outputs": [
    {
     "name": "stdout",
     "output_type": "stream",
     "text": [
      "Found 5467 images belonging to 2 classes.\n",
      "Found 691 images belonging to 2 classes.\n",
      "Found 16 images belonging to 2 classes.\n",
      "Batch shape=(64, 256, 256, 3), min=0.000, max=255.000\n"
     ]
    }
   ],
   "source": [
    "train_it = datagen.flow_from_directory('/home/pl/Documents/course_work_2/chest_xray/train/', class_mode='binary', batch_size=64)\n",
    "test_it = datagen.flow_from_directory('/home/pl/Documents/course_work_2/chest_xray/test/', class_mode='binary', batch_size=64)\n",
    "val_it = datagen.flow_from_directory('/home/pl/Documents/course_work_2/chest_xray/val/', class_mode='binary', batch_size=64)\n",
    "batchX, batchy = train_it.next()\n",
    "print('Batch shape=%s, min=%.3f, max=%.3f' % (batchX.shape, batchX.min(), batchX.max()))"
   ]
  },
  {
   "cell_type": "code",
   "execution_count": 4,
   "id": "fbf952f0-36e3-456f-af16-4e4b898c0dc2",
   "metadata": {},
   "outputs": [
    {
     "name": "stderr",
     "output_type": "stream",
     "text": [
      "2023-04-27 14:30:55.783960: W tensorflow/stream_executor/platform/default/dso_loader.cc:64] Could not load dynamic library 'libcuda.so.1'; dlerror: libcuda.so.1: cannot open shared object file: No such file or directory\n",
      "2023-04-27 14:30:55.783987: W tensorflow/stream_executor/cuda/cuda_driver.cc:269] failed call to cuInit: UNKNOWN ERROR (303)\n",
      "2023-04-27 14:30:55.784009: I tensorflow/stream_executor/cuda/cuda_diagnostics.cc:156] kernel driver does not appear to be running on this host (pl): /proc/driver/nvidia/version does not exist\n",
      "2023-04-27 14:30:55.784238: I tensorflow/core/platform/cpu_feature_guard.cc:193] This TensorFlow binary is optimized with oneAPI Deep Neural Network Library (oneDNN) to use the following CPU instructions in performance-critical operations:  AVX2 FMA\n",
      "To enable them in other operations, rebuild TensorFlow with the appropriate compiler flags.\n"
     ]
    },
    {
     "name": "stdout",
     "output_type": "stream",
     "text": [
      "Model: \"sequential\"\n",
      "_________________________________________________________________\n",
      " Layer (type)                Output Shape              Param #   \n",
      "=================================================================\n",
      " efficientnetb0 (Functional)  (None, 1280)             4049571   \n",
      "                                                                 \n",
      " dense (Dense)               (None, 120)               153720    \n",
      "                                                                 \n",
      " dense_1 (Dense)             (None, 120)               14520     \n",
      "                                                                 \n",
      " dense_2 (Dense)             (None, 1)                 121       \n",
      "                                                                 \n",
      "=================================================================\n",
      "Total params: 4,217,932\n",
      "Trainable params: 4,175,909\n",
      "Non-trainable params: 42,023\n",
      "_________________________________________________________________\n"
     ]
    }
   ],
   "source": [
    "efficient_net = EfficientNetB0(\n",
    "    weights='imagenet',\n",
    "    input_shape=(32,32,3),\n",
    "    include_top=False,\n",
    "    pooling='max'\n",
    ")\n",
    "\n",
    "model = Sequential()\n",
    "model.add(efficient_net)\n",
    "model.add(Dense(units = 120, activation='relu'))\n",
    "model.add(Dense(units = 120, activation = 'relu'))\n",
    "model.add(Dense(units = 1, activation='sigmoid'))\n",
    "model.summary()"
   ]
  },
  {
   "cell_type": "code",
   "execution_count": 5,
   "id": "1e8e995a-8de8-4ac4-9bd9-b5116116099f",
   "metadata": {},
   "outputs": [
    {
     "name": "stderr",
     "output_type": "stream",
     "text": [
      "/home/pl/.local/lib/python3.8/site-packages/keras/optimizers/optimizer_v2/adam.py:110: UserWarning: The `lr` argument is deprecated, use `learning_rate` instead.\n",
      "  super(Adam, self).__init__(name, **kwargs)\n"
     ]
    }
   ],
   "source": [
    "model.compile(optimizer=Adam(lr=0.0001), loss='binary_crossentropy', metrics=['accuracy'])"
   ]
  },
  {
   "cell_type": "code",
   "execution_count": 14,
   "id": "2111b3e7-9500-40df-8908-668aea6653fd",
   "metadata": {},
   "outputs": [
    {
     "name": "stderr",
     "output_type": "stream",
     "text": [
      "/tmp/ipykernel_8815/4263400253.py:1: UserWarning: `Model.fit_generator` is deprecated and will be removed in a future version. Please use `Model.fit`, which supports generators.\n",
      "  history = model.fit_generator(\n"
     ]
    },
    {
     "name": "stdout",
     "output_type": "stream",
     "text": [
      "Epoch 1/50\n"
     ]
    },
    {
     "name": "stderr",
     "output_type": "stream",
     "text": [
      "2023-04-27 14:53:09.367989: W tensorflow/core/framework/cpu_allocator_impl.cc:82] Allocation of 134217728 exceeds 10% of free system memory.\n",
      "2023-04-27 14:53:09.570614: W tensorflow/core/framework/cpu_allocator_impl.cc:82] Allocation of 134217728 exceeds 10% of free system memory.\n",
      "2023-04-27 14:53:09.658487: W tensorflow/core/framework/cpu_allocator_impl.cc:82] Allocation of 134217728 exceeds 10% of free system memory.\n",
      "2023-04-27 14:53:09.724347: W tensorflow/core/framework/cpu_allocator_impl.cc:82] Allocation of 134217728 exceeds 10% of free system memory.\n",
      "2023-04-27 14:53:09.793570: W tensorflow/core/framework/cpu_allocator_impl.cc:82] Allocation of 134217728 exceeds 10% of free system memory.\n"
     ]
    },
    {
     "name": "stdout",
     "output_type": "stream",
     "text": [
      "15/15 [==============================] - ETA: 0s - loss: 0.8150 - accuracy: 0.7281WARNING:tensorflow:Your input ran out of data; interrupting training. Make sure that your dataset or generator can generate at least `steps_per_epoch * epochs` batches (in this case, 7 batches). You may need to use the repeat() function when building your dataset.\n",
      "15/15 [==============================] - 167s 10s/step - loss: 0.8150 - accuracy: 0.7281 - val_loss: 0.5991 - val_accuracy: 0.6250\n",
      "Epoch 2/50\n",
      "15/15 [==============================] - 150s 10s/step - loss: 0.2095 - accuracy: 0.9198\n",
      "Epoch 3/50\n",
      "15/15 [==============================] - 144s 10s/step - loss: 0.1369 - accuracy: 0.9438\n",
      "Epoch 4/50\n",
      "15/15 [==============================] - 142s 9s/step - loss: 0.1386 - accuracy: 0.9479\n",
      "Epoch 5/50\n",
      "15/15 [==============================] - 154s 10s/step - loss: 0.0978 - accuracy: 0.9635\n",
      "Epoch 6/50\n",
      "15/15 [==============================] - 141s 9s/step - loss: 0.0951 - accuracy: 0.9615\n",
      "Epoch 7/50\n",
      "15/15 [==============================] - 135s 9s/step - loss: 0.0734 - accuracy: 0.9762\n",
      "Epoch 8/50\n",
      "15/15 [==============================] - 144s 10s/step - loss: 0.0428 - accuracy: 0.9854\n",
      "Epoch 9/50\n",
      "15/15 [==============================] - 141s 9s/step - loss: 0.0534 - accuracy: 0.9823\n",
      "Epoch 10/50\n",
      "15/15 [==============================] - 139s 9s/step - loss: 0.0361 - accuracy: 0.9892\n",
      "Epoch 11/50\n",
      "15/15 [==============================] - 152s 10s/step - loss: 0.0502 - accuracy: 0.9833\n",
      "Epoch 12/50\n",
      "15/15 [==============================] - 141s 9s/step - loss: 0.0478 - accuracy: 0.9865\n",
      "Epoch 13/50\n",
      "15/15 [==============================] - 139s 9s/step - loss: 0.0463 - accuracy: 0.9837\n",
      "Epoch 14/50\n",
      "15/15 [==============================] - 140s 9s/step - loss: 0.0242 - accuracy: 0.9927\n",
      "Epoch 15/50\n",
      "15/15 [==============================] - 140s 9s/step - loss: 0.0410 - accuracy: 0.9854\n",
      "Epoch 16/50\n",
      "15/15 [==============================] - 145s 10s/step - loss: 0.0341 - accuracy: 0.9885\n",
      "Epoch 17/50\n",
      "15/15 [==============================] - 142s 9s/step - loss: 0.0362 - accuracy: 0.9896\n",
      "Epoch 18/50\n",
      "15/15 [==============================] - 139s 9s/step - loss: 0.0287 - accuracy: 0.9896\n",
      "Epoch 19/50\n",
      "15/15 [==============================] - 138s 9s/step - loss: 0.0253 - accuracy: 0.9913\n",
      "Epoch 20/50\n",
      "15/15 [==============================] - 133s 9s/step - loss: 0.0387 - accuracy: 0.9870\n",
      "Epoch 21/50\n",
      "15/15 [==============================] - 139s 9s/step - loss: 0.0214 - accuracy: 0.9937\n",
      "Epoch 22/50\n",
      "15/15 [==============================] - 139s 9s/step - loss: 0.0146 - accuracy: 0.9937\n",
      "Epoch 23/50\n",
      "15/15 [==============================] - 139s 9s/step - loss: 0.0160 - accuracy: 0.9937\n",
      "Epoch 24/50\n",
      "15/15 [==============================] - 139s 9s/step - loss: 0.0092 - accuracy: 0.9969\n",
      "Epoch 25/50\n",
      "15/15 [==============================] - 133s 9s/step - loss: 0.0292 - accuracy: 0.9892\n",
      "Epoch 26/50\n",
      "15/15 [==============================] - 139s 9s/step - loss: 0.0120 - accuracy: 0.9958\n",
      "Epoch 27/50\n",
      "15/15 [==============================] - 133s 9s/step - loss: 0.0055 - accuracy: 1.0000\n",
      "Epoch 28/50\n",
      "15/15 [==============================] - 139s 9s/step - loss: 0.0117 - accuracy: 0.9969\n",
      "Epoch 29/50\n",
      "15/15 [==============================] - 138s 9s/step - loss: 0.0119 - accuracy: 0.9969\n",
      "Epoch 30/50\n",
      "15/15 [==============================] - 138s 9s/step - loss: 0.0079 - accuracy: 0.9979\n",
      "Epoch 31/50\n",
      "15/15 [==============================] - 133s 9s/step - loss: 0.0071 - accuracy: 0.9967\n",
      "Epoch 32/50\n",
      "15/15 [==============================] - 139s 9s/step - loss: 0.0096 - accuracy: 0.9948\n",
      "Epoch 33/50\n",
      "15/15 [==============================] - 139s 9s/step - loss: 0.0170 - accuracy: 0.9958\n",
      "Epoch 34/50\n",
      "15/15 [==============================] - 139s 9s/step - loss: 0.0140 - accuracy: 0.9948\n",
      "Epoch 35/50\n",
      "15/15 [==============================] - 132s 9s/step - loss: 0.0121 - accuracy: 0.9989\n",
      "Epoch 36/50\n",
      "15/15 [==============================] - 133s 9s/step - loss: 0.0078 - accuracy: 0.9978\n",
      "Epoch 37/50\n",
      "15/15 [==============================] - 140s 9s/step - loss: 0.0106 - accuracy: 0.9990\n",
      "Epoch 38/50\n",
      "15/15 [==============================] - 133s 9s/step - loss: 0.0095 - accuracy: 0.9978\n",
      "Epoch 39/50\n",
      "15/15 [==============================] - 133s 9s/step - loss: 0.0212 - accuracy: 0.9913\n",
      "Epoch 40/50\n",
      "15/15 [==============================] - 133s 9s/step - loss: 0.0186 - accuracy: 0.9913\n",
      "Epoch 41/50\n",
      "15/15 [==============================] - 138s 9s/step - loss: 0.0062 - accuracy: 0.9990\n",
      "Epoch 42/50\n",
      "15/15 [==============================] - 138s 9s/step - loss: 0.0119 - accuracy: 0.9979\n",
      "Epoch 43/50\n",
      "15/15 [==============================] - 139s 9s/step - loss: 0.0057 - accuracy: 1.0000\n",
      "Epoch 44/50\n",
      "15/15 [==============================] - 138s 9s/step - loss: 0.0050 - accuracy: 0.9979\n",
      "Epoch 45/50\n",
      "15/15 [==============================] - 139s 9s/step - loss: 0.0043 - accuracy: 0.9990\n",
      "Epoch 46/50\n",
      "15/15 [==============================] - 138s 9s/step - loss: 0.0044 - accuracy: 0.9990\n",
      "Epoch 47/50\n",
      "15/15 [==============================] - 139s 9s/step - loss: 0.0034 - accuracy: 0.9990\n",
      "Epoch 48/50\n",
      "15/15 [==============================] - 138s 9s/step - loss: 0.0033 - accuracy: 0.9990\n",
      "Epoch 49/50\n",
      "15/15 [==============================] - 139s 9s/step - loss: 0.0048 - accuracy: 0.9979\n",
      "Epoch 50/50\n",
      "15/15 [==============================] - 138s 9s/step - loss: 0.0027 - accuracy: 1.0000\n"
     ]
    }
   ],
   "source": [
    "history = model.fit_generator(\n",
    "    generator=train_it,\n",
    "    epochs = 50,\n",
    "    steps_per_epoch = 15,\n",
    "    validation_data = val_it,\n",
    "    validation_steps = 7\n",
    ")"
   ]
  },
  {
   "cell_type": "code",
   "execution_count": 25,
   "id": "bf4758fa-c6a4-4e3b-8312-b9e17e7de6bc",
   "metadata": {},
   "outputs": [
    {
     "data": {
      "image/png": "[encoded data removed]",
      "text/plain": [
       "<Figure size 432x288 with 1 Axes>"
      ]
     },
     "metadata": {
      "needs_background": "light"
     },
     "output_type": "display_data"
    },
    {
     "data": {
      "image/png": "[encoded data removed]",
      "text/plain": [
       "<Figure size 432x288 with 1 Axes>"
      ]
     },
     "metadata": {
      "needs_background": "light"
     },
     "output_type": "display_data"
    }
   ],
   "source": [
    "import matplotlib.pyplot as plt\n",
    "acc = history.history['accuracy']\n",
    "val_acc = history.history['val_accuracy']\n",
    "loss = history.history['loss']\n",
    "val_loss = history.history['val_loss']\n",
    "\n",
    "epochs = range(1,len(acc) + 1)\n",
    "\n",
    "plt.plot(epochs,acc,'bo',label = 'Training Accuracy')\n",
    "#plt.plot(epochs,val_acc,'b',label = 'Validation Accuracy')\n",
    "plt.title('Training and Validation Accuracy')\n",
    "plt.legend()\n",
    "plt.figure()\n",
    "\n",
    "plt.plot(epochs,loss,'bo',label = 'Training loss')\n",
    "#plt.plot(epochs,val_loss,'b',label = 'Validation Loss')\n",
    "plt.title('Training and Validation Loss')\n",
    "plt.legend()\n",
    "\n",
    "plt.show()"
   ]
  },
  {
   "cell_type": "code",
   "execution_count": 22,
   "id": "695d23dc-5037-4b1a-9059-974da10d6240",
   "metadata": {},
   "outputs": [
    {
     "name": "stderr",
     "output_type": "stream",
     "text": [
      "/tmp/ipykernel_8815/3817931190.py:1: UserWarning: `Model.predict_generator` is deprecated and will be removed in a future version. Please use `Model.predict`, which supports generators.\n",
      "  preds = model.predict_generator(\n"
     ]
    },
    {
     "name": "stdout",
     "output_type": "stream",
     "text": [
      "WARNING:tensorflow:Your input ran out of data; interrupting training. Make sure that your dataset or generator can generate at least `steps_per_epoch * epochs` batches (in this case, 691 batches). You may need to use the repeat() function when building your dataset.\n"
     ]
    }
   ],
   "source": [
    "preds = model.predict_generator(\n",
    "    test_it,\n",
    "    steps=len(test_it.filenames)\n",
    ")"
   ]
  },
  {
   "cell_type": "code",
   "execution_count": 27,
   "id": "fadd4253-6cfa-462a-a8db-36b14aacb9de",
   "metadata": {},
   "outputs": [
    {
     "name": "stdout",
     "output_type": "stream",
     "text": [
      "                                                    id  has_pneumonia\n",
      "0                                            0101.jpeg       0.000588\n",
      "1                                            0102.jpeg       0.999997\n",
      "2                                            0103.jpeg       0.999855\n",
      "3                                            0105.jpeg       0.995967\n",
      "4                                            0106.jpeg       0.999993\n",
      "..                                                 ...            ...\n",
      "686                         person96_bacteria_466.jpeg       0.009710\n",
      "687                         person97_bacteria_468.jpeg       1.000000\n",
      "688                         person99_bacteria_473.jpeg       0.999990\n",
      "689                         person99_bacteria_474.jpeg       0.992327\n",
      "690  radiopaedia-2019-novel-coronavirus-infected-pn...       0.012443\n",
      "\n",
      "[691 rows x 2 columns]\n"
     ]
    }
   ],
   "source": [
    "image_ids = [name.split('/')[-1] for name in test_it.filenames]\n",
    "predictions = preds.flatten()\n",
    "data = {'id': image_ids, 'has_pneumonia':predictions} \n",
    "submission = pd.DataFrame(data)\n",
    "print(submission)"
   ]
  },
  {
   "cell_type": "code",
   "execution_count": null,
   "id": "00e7bedc-d84a-433f-a3ae-af6fd3acbf34",
   "metadata": {},
   "outputs": [],
   "source": []
  }
 ],
 "metadata": {
  "kernelspec": {
   "display_name": "Python 3 (ipykernel)",
   "language": "python",
   "name": "python3"
  },
  "language_info": {
   "codemirror_mode": {
    "name": "ipython",
    "version": 3
   },
   "file_extension": ".py",
   "mimetype": "text/x-python",
   "name": "python",
   "nbconvert_exporter": "python",
   "pygments_lexer": "ipython3",
   "version": "3.8.10"
  }
 },
 "nbformat": 4,
 "nbformat_minor": 5
}
