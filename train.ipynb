{
 "cells": [
  {
   "cell_type": "code",
   "execution_count": 1,
   "id": "edeb0b88-ba17-404b-9cfd-2d4a6981221b",
   "metadata": {
    "tags": []
   },
   "outputs": [],
   "source": [
    "import tensorflow as tf\n",
    "import numpy as np\n",
    "import pandas as pd\n",
    "from tensorflow import keras\n",
    "from tensorflow.keras import layers\n",
    "from keras.preprocessing.image import ImageDataGenerator\n",
    "from keras import applications\n",
    "from tensorflow.keras.applications import EfficientNetB0\n",
    "from keras import callbacks\n",
    "from keras.models import Sequential\n",
    "from keras.layers import Dense\n",
    "from keras.optimizers import Adam\n"
   ]
  },
  {
   "cell_type": "code",
   "execution_count": 2,
   "id": "737fdfc0-f1a6-46f6-8f59-5bd1140a04e8",
   "metadata": {},
   "outputs": [
    {
     "name": "stderr",
     "output_type": "stream",
     "text": [
      "2023-05-03 21:51:53.663038: I tensorflow/stream_executor/cuda/cuda_gpu_executor.cc:975] successful NUMA node read from SysFS had negative value (-1), but there must be at least one NUMA node, so returning NUMA node zero\n",
      "2023-05-03 21:51:53.671191: I tensorflow/stream_executor/cuda/cuda_gpu_executor.cc:975] successful NUMA node read from SysFS had negative value (-1), but there must be at least one NUMA node, so returning NUMA node zero\n",
      "2023-05-03 21:51:53.671388: I tensorflow/stream_executor/cuda/cuda_gpu_executor.cc:975] successful NUMA node read from SysFS had negative value (-1), but there must be at least one NUMA node, so returning NUMA node zero\n"
     ]
    }
   ],
   "source": [
    "gpus = tf.config.experimental.list_physical_devices('GPU')\n",
    "for gpu in gpus:\n",
    "    tf.config.experimental.set_memory_growth(gpu, True)"
   ]
  },
  {
   "cell_type": "code",
   "execution_count": 3,
   "id": "5ea6d6fe-9c39-43a8-9262-c2ed550c3df3",
   "metadata": {},
   "outputs": [],
   "source": [
    "datagen = ImageDataGenerator()"
   ]
  },
  {
   "cell_type": "code",
   "execution_count": 4,
   "id": "29f4e228-6aee-4ce1-b1d2-db01767b052e",
   "metadata": {},
   "outputs": [
    {
     "name": "stdout",
     "output_type": "stream",
     "text": [
      "Found 5467 images belonging to 2 classes.\n",
      "Found 691 images belonging to 2 classes.\n",
      "Found 16 images belonging to 2 classes.\n",
      "Batch shape=(8, 256, 256, 3), min=0.000, max=255.000\n"
     ]
    }
   ],
   "source": [
    "train_it = datagen.flow_from_directory('/home/pl/Documents/course_work_2/chest_xray/train/', class_mode='binary', batch_size=8)\n",
    "test_it = datagen.flow_from_directory('/home/pl/Documents/course_work_2/chest_xray/test/', class_mode='binary', batch_size=8)\n",
    "val_it = datagen.flow_from_directory('/home/pl/Documents/course_work_2/chest_xray/val/', class_mode='binary', batch_size=8)\n",
    "batchX, batchy = train_it.next()\n",
    "print('Batch shape=%s, min=%.3f, max=%.3f' % (batchX.shape, batchX.min(), batchX.max()))"
   ]
  },
  {
   "cell_type": "code",
   "execution_count": 5,
   "id": "fbf952f0-36e3-456f-af16-4e4b898c0dc2",
   "metadata": {},
   "outputs": [
    {
     "name": "stderr",
     "output_type": "stream",
     "text": [
      "2023-05-03 21:52:12.954520: I tensorflow/core/platform/cpu_feature_guard.cc:193] This TensorFlow binary is optimized with oneAPI Deep Neural Network Library (oneDNN) to use the following CPU instructions in performance-critical operations:  AVX2 FMA\n",
      "To enable them in other operations, rebuild TensorFlow with the appropriate compiler flags.\n",
      "2023-05-03 21:52:12.954798: I tensorflow/stream_executor/cuda/cuda_gpu_executor.cc:975] successful NUMA node read from SysFS had negative value (-1), but there must be at least one NUMA node, so returning NUMA node zero\n",
      "2023-05-03 21:52:12.955012: I tensorflow/stream_executor/cuda/cuda_gpu_executor.cc:975] successful NUMA node read from SysFS had negative value (-1), but there must be at least one NUMA node, so returning NUMA node zero\n",
      "2023-05-03 21:52:12.955161: I tensorflow/stream_executor/cuda/cuda_gpu_executor.cc:975] successful NUMA node read from SysFS had negative value (-1), but there must be at least one NUMA node, so returning NUMA node zero\n",
      "2023-05-03 21:52:13.429626: I tensorflow/stream_executor/cuda/cuda_gpu_executor.cc:975] successful NUMA node read from SysFS had negative value (-1), but there must be at least one NUMA node, so returning NUMA node zero\n",
      "2023-05-03 21:52:13.429805: I tensorflow/stream_executor/cuda/cuda_gpu_executor.cc:975] successful NUMA node read from SysFS had negative value (-1), but there must be at least one NUMA node, so returning NUMA node zero\n",
      "2023-05-03 21:52:13.429944: I tensorflow/stream_executor/cuda/cuda_gpu_executor.cc:975] successful NUMA node read from SysFS had negative value (-1), but there must be at least one NUMA node, so returning NUMA node zero\n",
      "2023-05-03 21:52:13.430053: I tensorflow/core/common_runtime/gpu/gpu_device.cc:1532] Created device /job:localhost/replica:0/task:0/device:GPU:0 with 3361 MB memory:  -> device: 0, name: NVIDIA GeForce GTX 1050, pci bus id: 0000:01:00.0, compute capability: 6.1\n"
     ]
    },
    {
     "name": "stdout",
     "output_type": "stream",
     "text": [
      "Model: \"sequential\"\n",
      "_________________________________________________________________\n",
      " Layer (type)                Output Shape              Param #   \n",
      "=================================================================\n",
      " efficientnetb0 (Functional)  (None, 1280)             4049571   \n",
      "                                                                 \n",
      " dense (Dense)               (None, 120)               153720    \n",
      "                                                                 \n",
      " dense_1 (Dense)             (None, 120)               14520     \n",
      "                                                                 \n",
      " dense_2 (Dense)             (None, 1)                 121       \n",
      "                                                                 \n",
      "=================================================================\n",
      "Total params: 4,217,932\n",
      "Trainable params: 4,175,909\n",
      "Non-trainable params: 42,023\n",
      "_________________________________________________________________\n"
     ]
    }
   ],
   "source": [
    "efficient_net = EfficientNetB0(\n",
    "    weights='imagenet',\n",
    "    input_shape=(256,256,3),\n",
    "    include_top=False,\n",
    "    pooling='max'\n",
    ")\n",
    "# efficient_net.trainable = False\n",
    "\n",
    "model = Sequential()\n",
    "model.add(efficient_net)\n",
    "model.add(Dense(units = 120, activation='relu'))\n",
    "model.add(Dense(units = 120, activation = 'relu'))\n",
    "model.add(Dense(units = 1, activation='sigmoid'))\n",
    "model.summary()"
   ]
  },
  {
   "cell_type": "code",
   "execution_count": 6,
   "id": "1e8e995a-8de8-4ac4-9bd9-b5116116099f",
   "metadata": {},
   "outputs": [
    {
     "name": "stderr",
     "output_type": "stream",
     "text": [
      "/home/pl/.local/lib/python3.8/site-packages/keras/optimizers/optimizer_v2/adam.py:110: UserWarning: The `lr` argument is deprecated, use `learning_rate` instead.\n",
      "  super(Adam, self).__init__(name, **kwargs)\n"
     ]
    }
   ],
   "source": [
    "model.compile(optimizer=Adam(lr=0.0001), loss='binary_crossentropy', metrics=['accuracy'])"
   ]
  },
  {
   "cell_type": "code",
   "execution_count": 7,
   "id": "2111b3e7-9500-40df-8908-668aea6653fd",
   "metadata": {
    "tags": []
   },
   "outputs": [
    {
     "name": "stdout",
     "output_type": "stream",
     "text": [
      "Epoch 1/50\n"
     ]
    },
    {
     "name": "stderr",
     "output_type": "stream",
     "text": [
      "2023-05-03 21:52:35.516270: I tensorflow/stream_executor/cuda/cuda_dnn.cc:384] Loaded cuDNN version 8101\n"
     ]
    },
    {
     "name": "stdout",
     "output_type": "stream",
     "text": [
      "684/684 [==============================] - 179s 246ms/step - loss: 0.1579 - accuracy: 0.9384 - val_loss: 0.3147 - val_accuracy: 0.8125\n",
      "Epoch 2/50\n",
      "684/684 [==============================] - 166s 243ms/step - loss: 0.0609 - accuracy: 0.9793 - val_loss: 0.2652 - val_accuracy: 0.8750\n",
      "Epoch 3/50\n",
      "684/684 [==============================] - 166s 243ms/step - loss: 0.0294 - accuracy: 0.9901 - val_loss: 0.0041 - val_accuracy: 1.0000\n",
      "Epoch 4/50\n",
      "684/684 [==============================] - 166s 243ms/step - loss: 0.0305 - accuracy: 0.9892 - val_loss: 0.0156 - val_accuracy: 1.0000\n",
      "Epoch 5/50\n",
      "684/684 [==============================] - 166s 243ms/step - loss: 0.0180 - accuracy: 0.9943 - val_loss: 0.0015 - val_accuracy: 1.0000\n",
      "Epoch 6/50\n",
      "684/684 [==============================] - 166s 243ms/step - loss: 0.0215 - accuracy: 0.9925 - val_loss: 0.0015 - val_accuracy: 1.0000\n",
      "Epoch 7/50\n",
      "684/684 [==============================] - 166s 243ms/step - loss: 0.0137 - accuracy: 0.9945 - val_loss: 0.0026 - val_accuracy: 1.0000\n",
      "Epoch 8/50\n",
      "684/684 [==============================] - 166s 243ms/step - loss: 0.0128 - accuracy: 0.9958 - val_loss: 0.1340 - val_accuracy: 0.9375\n",
      "Epoch 9/50\n",
      "684/684 [==============================] - 166s 242ms/step - loss: 0.0143 - accuracy: 0.9954 - val_loss: 5.5048e-04 - val_accuracy: 1.0000\n",
      "Epoch 10/50\n",
      "684/684 [==============================] - 166s 243ms/step - loss: 0.0112 - accuracy: 0.9951 - val_loss: 0.0012 - val_accuracy: 1.0000\n",
      "Epoch 11/50\n",
      "684/684 [==============================] - 166s 243ms/step - loss: 0.0144 - accuracy: 0.9954 - val_loss: 7.8851e-05 - val_accuracy: 1.0000\n",
      "Epoch 12/50\n",
      "684/684 [==============================] - 166s 242ms/step - loss: 0.0086 - accuracy: 0.9971 - val_loss: 0.1979 - val_accuracy: 0.8750\n",
      "Epoch 13/50\n",
      "684/684 [==============================] - 166s 242ms/step - loss: 0.0071 - accuracy: 0.9969 - val_loss: 0.0399 - val_accuracy: 1.0000\n",
      "Epoch 14/50\n",
      "684/684 [==============================] - 166s 243ms/step - loss: 0.0243 - accuracy: 0.9954 - val_loss: 0.0016 - val_accuracy: 1.0000\n",
      "Epoch 15/50\n",
      "684/684 [==============================] - 166s 243ms/step - loss: 0.0061 - accuracy: 0.9978 - val_loss: 0.0318 - val_accuracy: 1.0000\n",
      "Epoch 16/50\n",
      "684/684 [==============================] - 166s 242ms/step - loss: 0.0184 - accuracy: 0.9947 - val_loss: 0.0099 - val_accuracy: 1.0000\n",
      "Epoch 17/50\n",
      "684/684 [==============================] - 166s 243ms/step - loss: 0.0035 - accuracy: 0.9989 - val_loss: 0.2429 - val_accuracy: 0.9375\n",
      "Epoch 18/50\n",
      "684/684 [==============================] - 167s 243ms/step - loss: 0.0121 - accuracy: 0.9960 - val_loss: 0.0024 - val_accuracy: 1.0000\n",
      "Epoch 19/50\n",
      "684/684 [==============================] - 166s 243ms/step - loss: 0.0122 - accuracy: 0.9974 - val_loss: 0.0073 - val_accuracy: 1.0000\n",
      "Epoch 20/50\n",
      "684/684 [==============================] - 166s 243ms/step - loss: 0.0115 - accuracy: 0.9967 - val_loss: 0.0395 - val_accuracy: 1.0000\n",
      "Epoch 21/50\n",
      "684/684 [==============================] - 166s 243ms/step - loss: 0.0024 - accuracy: 0.9995 - val_loss: 5.4983e-04 - val_accuracy: 1.0000\n",
      "Epoch 22/50\n",
      "684/684 [==============================] - 166s 243ms/step - loss: 0.0053 - accuracy: 0.9982 - val_loss: 0.0198 - val_accuracy: 1.0000\n",
      "Epoch 23/50\n",
      "684/684 [==============================] - 166s 242ms/step - loss: 0.0033 - accuracy: 0.9995 - val_loss: 8.6906e-05 - val_accuracy: 1.0000\n",
      "Epoch 24/50\n",
      "684/684 [==============================] - 166s 242ms/step - loss: 0.0083 - accuracy: 0.9978 - val_loss: 3.6100e-05 - val_accuracy: 1.0000\n",
      "Epoch 25/50\n",
      "684/684 [==============================] - 166s 242ms/step - loss: 0.0035 - accuracy: 0.9985 - val_loss: 7.9411e-09 - val_accuracy: 1.0000\n",
      "Epoch 26/50\n",
      "684/684 [==============================] - 166s 242ms/step - loss: 0.0120 - accuracy: 0.9969 - val_loss: 1.3382e-04 - val_accuracy: 1.0000\n",
      "Epoch 27/50\n",
      "684/684 [==============================] - 166s 243ms/step - loss: 0.0030 - accuracy: 0.9989 - val_loss: 3.4109e-06 - val_accuracy: 1.0000\n",
      "Epoch 28/50\n",
      "684/684 [==============================] - 166s 243ms/step - loss: 0.0050 - accuracy: 0.9984 - val_loss: 7.5616e-04 - val_accuracy: 1.0000\n",
      "Epoch 29/50\n",
      "684/684 [==============================] - 166s 242ms/step - loss: 0.0062 - accuracy: 0.9984 - val_loss: 8.7418e-04 - val_accuracy: 1.0000\n",
      "Epoch 30/50\n",
      "684/684 [==============================] - 166s 242ms/step - loss: 0.0029 - accuracy: 0.9987 - val_loss: 4.7224e-06 - val_accuracy: 1.0000\n",
      "Epoch 31/50\n",
      "684/684 [==============================] - 166s 242ms/step - loss: 3.2410e-04 - accuracy: 1.0000 - val_loss: 4.7821e-07 - val_accuracy: 1.0000\n",
      "Epoch 32/50\n",
      "684/684 [==============================] - 166s 243ms/step - loss: 0.0078 - accuracy: 0.9978 - val_loss: 0.0104 - val_accuracy: 1.0000\n",
      "Epoch 33/50\n",
      "684/684 [==============================] - 166s 242ms/step - loss: 0.0098 - accuracy: 0.9973 - val_loss: 9.5845e-06 - val_accuracy: 1.0000\n",
      "Epoch 34/50\n",
      "684/684 [==============================] - 166s 243ms/step - loss: 0.0044 - accuracy: 0.9991 - val_loss: 9.4652e-06 - val_accuracy: 1.0000\n",
      "Epoch 35/50\n",
      "684/684 [==============================] - 166s 242ms/step - loss: 0.0016 - accuracy: 0.9993 - val_loss: 2.4905e-04 - val_accuracy: 1.0000\n",
      "Epoch 36/50\n",
      "684/684 [==============================] - 166s 242ms/step - loss: 0.0069 - accuracy: 0.9973 - val_loss: 2.1519e-04 - val_accuracy: 1.0000\n",
      "Epoch 37/50\n",
      "684/684 [==============================] - 166s 242ms/step - loss: 0.0053 - accuracy: 0.9991 - val_loss: 0.0086 - val_accuracy: 1.0000\n",
      "Epoch 38/50\n",
      "684/684 [==============================] - 166s 243ms/step - loss: 0.0092 - accuracy: 0.9982 - val_loss: 5.9868e-04 - val_accuracy: 1.0000\n",
      "Epoch 39/50\n",
      "684/684 [==============================] - 166s 243ms/step - loss: 0.0029 - accuracy: 0.9993 - val_loss: 0.0017 - val_accuracy: 1.0000\n",
      "Epoch 40/50\n",
      "684/684 [==============================] - 166s 242ms/step - loss: 0.0017 - accuracy: 0.9993 - val_loss: 5.3856e-04 - val_accuracy: 1.0000\n",
      "Epoch 41/50\n",
      "684/684 [==============================] - 166s 242ms/step - loss: 0.0026 - accuracy: 0.9987 - val_loss: 2.9187e-05 - val_accuracy: 1.0000\n",
      "Epoch 42/50\n",
      "684/684 [==============================] - 166s 242ms/step - loss: 0.0043 - accuracy: 0.9984 - val_loss: 0.0017 - val_accuracy: 1.0000\n",
      "Epoch 43/50\n",
      "684/684 [==============================] - 166s 242ms/step - loss: 1.9668e-04 - accuracy: 1.0000 - val_loss: 0.0581 - val_accuracy: 0.9375\n",
      "Epoch 44/50\n",
      "684/684 [==============================] - 166s 243ms/step - loss: 0.0036 - accuracy: 0.9989 - val_loss: 0.0176 - val_accuracy: 1.0000\n",
      "Epoch 45/50\n",
      "684/684 [==============================] - 166s 242ms/step - loss: 0.0066 - accuracy: 0.9982 - val_loss: 0.0062 - val_accuracy: 1.0000\n",
      "Epoch 46/50\n",
      "684/684 [==============================] - 166s 243ms/step - loss: 0.0023 - accuracy: 0.9993 - val_loss: 0.0297 - val_accuracy: 1.0000\n",
      "Epoch 47/50\n",
      "684/684 [==============================] - 166s 242ms/step - loss: 0.0059 - accuracy: 0.9982 - val_loss: 0.6869 - val_accuracy: 0.8750\n",
      "Epoch 48/50\n",
      "684/684 [==============================] - 166s 242ms/step - loss: 7.2166e-04 - accuracy: 0.9996 - val_loss: 0.0443 - val_accuracy: 0.9375\n",
      "Epoch 49/50\n",
      "684/684 [==============================] - 166s 242ms/step - loss: 0.0023 - accuracy: 0.9995 - val_loss: 0.0093 - val_accuracy: 1.0000\n",
      "Epoch 50/50\n",
      "684/684 [==============================] - 166s 243ms/step - loss: 0.0019 - accuracy: 0.9995 - val_loss: 0.0719 - val_accuracy: 0.9375\n"
     ]
    }
   ],
   "source": [
    "history = model.fit(\n",
    "    train_it,\n",
    "    epochs = 50,\n",
    "    validation_data = val_it\n",
    ")"
   ]
  },
  {
   "cell_type": "code",
   "execution_count": 9,
   "id": "bf4758fa-c6a4-4e3b-8312-b9e17e7de6bc",
   "metadata": {
    "tags": []
   },
   "outputs": [
    {
     "data": {
      "image/png": "[encoded data removed]",
      "text/plain": [
       "<Figure size 432x288 with 1 Axes>"
      ]
     },
     "metadata": {
      "needs_background": "light"
     },
     "output_type": "display_data"
    },
    {
     "data": {
      "image/png": "[encoded data removed]",
      "text/plain": [
       "<Figure size 432x288 with 1 Axes>"
      ]
     },
     "metadata": {
      "needs_background": "light"
     },
     "output_type": "display_data"
    }
   ],
   "source": [
    "import matplotlib.pyplot as plt\n",
    "acc = history.history['accuracy']\n",
    "val_acc = history.history['val_accuracy']\n",
    "loss = history.history['loss']\n",
    "val_loss = history.history['val_loss']\n",
    "\n",
    "epochs = range(1,len(acc) + 1)\n",
    "\n",
    "plt.plot(epochs,acc,'bo',label = 'Training Accuracy')\n",
    "plt.plot(epochs,val_acc,'b',label = 'Validation Accuracy')\n",
    "plt.title('Training and Validation Accuracy')\n",
    "plt.legend()\n",
    "plt.figure()\n",
    "\n",
    "plt.plot(epochs,loss,'bo',label = 'Training loss')\n",
    "plt.plot(epochs,val_loss,'b',label = 'Validation Loss')\n",
    "plt.title('Training and Validation Loss')\n",
    "plt.legend()\n",
    "\n",
    "plt.show()"
   ]
  },
  {
   "cell_type": "code",
   "execution_count": 10,
   "id": "695d23dc-5037-4b1a-9059-974da10d6240",
   "metadata": {
    "tags": []
   },
   "outputs": [
    {
     "name": "stderr",
     "output_type": "stream",
     "text": [
      "/tmp/ipykernel_82111/3817931190.py:1: UserWarning: `Model.predict_generator` is deprecated and will be removed in a future version. Please use `Model.predict`, which supports generators.\n",
      "  preds = model.predict_generator(\n"
     ]
    },
    {
     "name": "stdout",
     "output_type": "stream",
     "text": [
      "WARNING:tensorflow:Your input ran out of data; interrupting training. Make sure that your dataset or generator can generate at least `steps_per_epoch * epochs` batches (in this case, 691 batches). You may need to use the repeat() function when building your dataset.\n"
     ]
    }
   ],
   "source": [
    "preds = model.predict_generator(\n",
    "    test_it,\n",
    "    steps=len(test_it.filenames)\n",
    ")"
   ]
  },
  {
   "cell_type": "code",
   "execution_count": 11,
   "id": "fadd4253-6cfa-462a-a8db-36b14aacb9de",
   "metadata": {},
   "outputs": [
    {
     "name": "stdout",
     "output_type": "stream",
     "text": [
      "          id  has_pneumonia\n",
      "0  0101.jpeg       0.001698\n",
      "1  0102.jpeg       1.000000\n",
      "2  0103.jpeg       1.000000\n",
      "3  0105.jpeg       0.541123\n",
      "4  0106.jpeg       0.070846\n"
     ]
    }
   ],
   "source": [
    "image_ids = [name.split('/')[-1] for name in test_it.filenames]\n",
    "predictions = preds.flatten()\n",
    "data = {'id': image_ids, 'has_pneumonia':predictions} \n",
    "submission = pd.DataFrame(data)\n",
    "print(submission.head())"
   ]
  },
  {
   "cell_type": "code",
   "execution_count": 12,
   "id": "cf798107-b76f-459c-ae2c-b167213c209f",
   "metadata": {},
   "outputs": [
    {
     "name": "stderr",
     "output_type": "stream",
     "text": [
      "WARNING:absl:Found untraced functions such as _jit_compiled_convolution_op, _jit_compiled_convolution_op, _jit_compiled_convolution_op, _jit_compiled_convolution_op, _jit_compiled_convolution_op while saving (showing 5 of 81). These functions will not be directly callable after loading.\n"
     ]
    },
    {
     "name": "stdout",
     "output_type": "stream",
     "text": [
      "INFO:tensorflow:Assets written to: /home/pl/Documents/course_work_2/model_full_train/assets\n"
     ]
    },
    {
     "name": "stderr",
     "output_type": "stream",
     "text": [
      "INFO:tensorflow:Assets written to: /home/pl/Documents/course_work_2/model_full_train/assets\n"
     ]
    }
   ],
   "source": [
    "model.save('/home/pl/Documents/course_work_2/model_full_train/')"
   ]
  },
  {
   "cell_type": "code",
   "execution_count": null,
   "id": "69ac60b4-14c4-468b-8086-bd876a9e22a8",
   "metadata": {},
   "outputs": [],
   "source": []
  },
  {
   "cell_type": "code",
   "execution_count": null,
   "id": "851c86ce-fe28-4330-b381-ace962a3bb6a",
   "metadata": {},
   "outputs": [],
   "source": []
  },
  {
   "cell_type": "code",
   "execution_count": null,
   "id": "7ed7e560-7e49-458e-a6e9-3a17a92b79df",
   "metadata": {},
   "outputs": [],
   "source": []
  }
 ],
 "metadata": {
  "kernelspec": {
   "display_name": "Python 3 (ipykernel)",
   "language": "python",
   "name": "python3"
  },
  "language_info": {
   "codemirror_mode": {
    "name": "ipython",
    "version": 3
   },
   "file_extension": ".py",
   "mimetype": "text/x-python",
   "name": "python",
   "nbconvert_exporter": "python",
   "pygments_lexer": "ipython3",
   "version": "3.8.10"
  }
 },
 "nbformat": 4,
 "nbformat_minor": 5
}
